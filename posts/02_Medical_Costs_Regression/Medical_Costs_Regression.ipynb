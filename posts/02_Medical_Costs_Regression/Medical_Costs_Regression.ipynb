{
 "cells": [
  {
   "cell_type": "markdown",
   "id": "04b51e80",
   "metadata": {},
   "source": [
    "---\n",
    "title: Predicting Medical Costs - A Regression Problem\n",
    "author: Patrick Linke\n",
    "date: 2025-10-27\n",
    "categories: [\"Regression\", \"Medicine\"]\n",
    "execute: false\n",
    "---"
   ]
  },
  {
   "cell_type": "markdown",
   "id": "af9f697a",
   "metadata": {},
   "source": [
    "![](images/medical_costs_cover.png)"
   ]
  },
  {
   "cell_type": "markdown",
   "id": "2b626aee",
   "metadata": {},
   "source": [
    "# Introduction"
   ]
  },
  {
   "cell_type": "markdown",
   "id": "fe5db6bc",
   "metadata": {},
   "source": [
    "## 1. Key Results\n",
    "\n",
    "- *Charges generally rise with age.*\n",
    "- *Smokers consistently have higher and more variable charges than non-smokers.*"
   ]
  },
  {
   "cell_type": "markdown",
   "id": "965d91a9",
   "metadata": {},
   "source": [
    "![Fig. 0 Showing the most important features identified by a Decision Tree Regressor.](images/Decision_Tree_plot_small.png)"
   ]
  },
  {
   "cell_type": "code",
   "execution_count": 1,
   "id": "2a3acd88",
   "metadata": {},
   "outputs": [
    {
     "data": {
      "text/html": [
       "<div>\n",
       "<style scoped>\n",
       "    .dataframe tbody tr th:only-of-type {\n",
       "        vertical-align: middle;\n",
       "    }\n",
       "\n",
       "    .dataframe tbody tr th {\n",
       "        vertical-align: top;\n",
       "    }\n",
       "\n",
       "    .dataframe thead th {\n",
       "        text-align: right;\n",
       "    }\n",
       "</style>\n",
       "<table border=\"1\" class=\"dataframe\">\n",
       "  <thead>\n",
       "    <tr style=\"text-align: right;\">\n",
       "      <th></th>\n",
       "      <th>Models</th>\n",
       "      <th>MAE</th>\n",
       "      <th>MSE</th>\n",
       "      <th>RMSE</th>\n",
       "      <th>R2</th>\n",
       "    </tr>\n",
       "  </thead>\n",
       "  <tbody>\n",
       "    <tr>\n",
       "      <th>0</th>\n",
       "      <td>LinearRegression</td>\n",
       "      <td>4092.36</td>\n",
       "      <td>31333268.50</td>\n",
       "      <td>5597.61</td>\n",
       "      <td>0.79</td>\n",
       "    </tr>\n",
       "    <tr>\n",
       "      <th>1</th>\n",
       "      <td>SVR</td>\n",
       "      <td>3373.30</td>\n",
       "      <td>37706594.68</td>\n",
       "      <td>6140.57</td>\n",
       "      <td>0.75</td>\n",
       "    </tr>\n",
       "    <tr>\n",
       "      <th>2</th>\n",
       "      <td>DecisionTreeRegressor</td>\n",
       "      <td>2755.59</td>\n",
       "      <td>21655894.86</td>\n",
       "      <td>4653.59</td>\n",
       "      <td>0.86</td>\n",
       "    </tr>\n",
       "    <tr>\n",
       "      <th>3</th>\n",
       "      <td>RandomForestRegressor</td>\n",
       "      <td>2459.69</td>\n",
       "      <td>18958974.55</td>\n",
       "      <td>4354.19</td>\n",
       "      <td>0.88</td>\n",
       "    </tr>\n",
       "  </tbody>\n",
       "</table>\n",
       "</div>"
      ],
      "text/plain": [
       "                  Models      MAE          MSE     RMSE    R2\n",
       "0       LinearRegression  4092.36  31333268.50  5597.61  0.79\n",
       "1                    SVR  3373.30  37706594.68  6140.57  0.75\n",
       "2  DecisionTreeRegressor  2755.59  21655894.86  4653.59  0.86\n",
       "3  RandomForestRegressor  2459.69  18958974.55  4354.19  0.88"
      ]
     },
     "execution_count": 1,
     "metadata": {},
     "output_type": "execute_result"
    }
   ],
   "source": [
    "#| echo: false\n",
    "\n",
    "import pandas as pd\n",
    "pd.read_csv(\"data/model_comparison_metrics.csv\")"
   ]
  },
  {
   "cell_type": "markdown",
   "id": "58e5cbbf",
   "metadata": {},
   "source": [
    "## 2. Why It Matters\n",
    "\n",
    "Predicting medical costs isn’t just a math problem — it’s about understanding the real price of our health choices. For insurers, these predictions guide fairer pricing and risk assessment. For individuals, they reveal how habits like smoking or maintaining a healthy BMI can shape future expenses. In a world where healthcare costs can make or break financial stability, this kind of model helps turn data into smarter, more informed decisions."
   ]
  },
  {
   "cell_type": "markdown",
   "id": "48e1bb22",
   "metadata": {},
   "source": [
    "## 3. The Data\n",
    "\n",
    "The dataset comes from the [Medical Cost Personal Dataset](https://www.kaggle.com/datasets/mirichoi0218/insurance) on Kaggle, containing **1,338 observations**, each representing a single U.S. health insurance policyholder. Key features include **age**, **sex**, **BMI**, **number of children**, **smoker status**, and **region**. The **target variable**, *charges*, captures each person’s annual medical cost, ranging from about $1,000 to over $60,000. Despite its small size, the dataset offers rich insights into how lifestyle and demographics drive healthcare expenses."
   ]
  },
  {
   "cell_type": "markdown",
   "id": "c1e9b560",
   "metadata": {},
   "source": [
    "![Fig. 1 Shows the Distribution of Numeric Features in the Medical Costs Dataset](images/numeric_dist_histplot.png)"
   ]
  },
  {
   "cell_type": "markdown",
   "id": "12e686d8",
   "metadata": {},
   "source": [
    "![Fig. 2 Shows the Distribution of Categorical Features in the Medical Costs Dataset](images/cat_dist_histplot.png)"
   ]
  },
  {
   "cell_type": "markdown",
   "id": "86a52b3e",
   "metadata": {},
   "source": [
    "# Methods & Results"
   ]
  },
  {
   "cell_type": "markdown",
   "id": "cb84e223",
   "metadata": {},
   "source": [
    "## 4. What I Did\n",
    "\n",
    "Explored the medical cost dataset with visuals — distributions, correlations, and feature effects — to link age, BMI, and smoking to charges. Cleaned numeric features with StandardScaler and categorical variables with OneHotEncoder.\n",
    "Trained LinearRegression, SVR, DecisionTreeRegressor, and RandomForestRegressor, tuning hyperparameters with RandomizedSearchCV. Evaluated MAE, MSE, RMSE, and R² on the test set and compared models visually."
   ]
  },
  {
   "cell_type": "markdown",
   "id": "7fd8fc49",
   "metadata": {},
   "source": [
    "## 5. What I Found"
   ]
  },
  {
   "cell_type": "markdown",
   "id": "09cfe90a",
   "metadata": {},
   "source": [
    "Insurance charges tend to increase with age. Smokers have significantly higher and more variable charges compared to non-smokers, whose costs show a smoother, more consistent trend.  \n",
    "Among smokers, insurance charges generally increase with higher BMI, while BMI has little impact on costs for non-smokers. Within non-smokers, age drives costs.\n",
    "\n",
    "Feature importance analysis (from the tree-based models) highlighted smoking, age, and BMI as the top predictors — confirming both domain expectations and model consistency.\n",
    "\n",
    "The Random Forest Regressor achieved the best results, with the lowest RMSE (≈ 4354) and highest R² (≈ 0.88), indicating strong predictive accuracy and generalization on unseen data, showing that it is possible to predict medical costs based on key personal and lifestyle factors. This demonstrates that data-driven models can effectively capture the underlying relationships between health behaviors and medical expenses, enabling more accurate cost forecasting and better-informed healthcare and policy decisions."
   ]
  },
  {
   "cell_type": "markdown",
   "id": "fd22ef9d",
   "metadata": {},
   "source": [
    "![Fig. 3 Charges increase with age, and smokers have significantly higher and more variable charges than non-smokers.](images/age_vs_charges.png)"
   ]
  },
  {
   "cell_type": "markdown",
   "id": "fbc9f871",
   "metadata": {},
   "source": [
    "![Fig. 4 Smokers consistently have higher charges than non-smokers. Among smokers, charges increase strongly with BMI (r ≈ 0.81), while among non-smokers, BMI has almost no relationship with charges (r ≈ 0.08). This indicates a strong interaction effect — smoking amplifies the impact of BMI on charges.](images/bmi_vs_charges.png)\n"
   ]
  },
  {
   "cell_type": "markdown",
   "id": "8646eef9",
   "metadata": {},
   "source": [
    "![Fig. 5  Decision tree regression model predicting medical insurance charges. The model splits data points into groups based on key factors. The most important splitting criterion is smoking status. Among non-smokers, age is the most influential variable, while for smokers, BMI plays the dominant role. The “value” shown in each node represents the model’s predicted target value (here, the estimated insurance cost in dollars).](images/Decision_Tree_plot.png)"
   ]
  },
  {
   "cell_type": "markdown",
   "id": "c49f96a7",
   "metadata": {},
   "source": [
    "![Fig. 6 Comparison of Root Mean Squared Error (RMSE) values for different regression models on the test set. The RMSE measures the average magnitude of prediction errors, with lower values indicating better model performance. The Random Forest Regressor achieved the lowest RMSE, followed by the Decision Tree Regressor, while the SVR and Linear Regression models showed higher error levels, suggesting less accurate predictions.)](images/RMSE_score.png)"
   ]
  },
  {
   "cell_type": "markdown",
   "id": "a73a3a60",
   "metadata": {},
   "source": [
    "![Fig. 7 Comparison of R² scores for different regression models on the test set. The R² score represents the proportion of variance in medical insurance charges explained by each model. Higher values indicate better predictive performance. The Random Forest Regressor achieved the highest R², followed closely by the Decision Tree Regressor, while Linear Regression and SVR showed comparatively lower explanatory power.](images/R2_score.png)"
   ]
  },
  {
   "cell_type": "markdown",
   "id": "40547132",
   "metadata": {},
   "source": [
    "# Conclusion"
   ]
  },
  {
   "cell_type": "markdown",
   "id": "580e013e",
   "metadata": {},
   "source": [
    "## 6. What I Learned\n",
    "\n",
    "Model performance improved with complexity:  \n",
    "Tree-based models, especially Random Forest, captured the nonlinear impact of health and lifestyle factors most effectively. The findings align with real-world intuition — smokers and older individuals face substantially higher insurance costs."
   ]
  },
  {
   "cell_type": "markdown",
   "id": "7cfe7c5c",
   "metadata": {},
   "source": [
    "## 7. What’s Next\n",
    "\n",
    "This project shows that predicting medical costs is possible — but there’s room to grow. Future work could explore more advanced models like Gradient Boosting or XGBoost to see if they capture even subtler patterns in the data. Another direction is adding richer features to improve model depth and realism. Finally, scaling this work to larger, more diverse datasets would help assess how well these findings hold up across different populations. The next steps are open — it’s up to you to take this foundation and push it further."
   ]
  },
  {
   "cell_type": "markdown",
   "id": "191a710c",
   "metadata": {},
   "source": [
    "# Credits\n",
    "\n",
    "**Thanks for Reading the Post!**\n",
    "\n",
    "Inspired by Chapter 2 from [Hands-On Machine Learning with Scikit-Learn, Keras, and TensorFlow, 3rd Edition by Aurélien Géron](https://www.oreilly.com/library/view/hands-on-machine-learning/9781098125967/)"
   ]
  },
  {
   "cell_type": "markdown",
   "id": "8b162efc",
   "metadata": {},
   "source": [
    "<a href=\"../../downloads/Medical_Costs_Regression_notebook.ipynb\" download class=\"btn btn-primary\">\n",
    "  ⬇️ Download The Notebook\n",
    "</a>"
   ]
  }
 ],
 "metadata": {
  "kernelspec": {
   "display_name": "Python (handson-ml3)",
   "language": "python",
   "name": "handson-ml3"
  },
  "language_info": {
   "codemirror_mode": {
    "name": "ipython",
    "version": 3
   },
   "file_extension": ".py",
   "mimetype": "text/x-python",
   "name": "python",
   "nbconvert_exporter": "python",
   "pygments_lexer": "ipython3",
   "version": "3.12.11"
  }
 },
 "nbformat": 4,
 "nbformat_minor": 5
}
