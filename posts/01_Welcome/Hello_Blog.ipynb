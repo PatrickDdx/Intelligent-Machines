{
 "cells": [
  {
   "cell_type": "markdown",
   "id": "234da95e",
   "metadata": {},
   "source": [
    "---\n",
    "title: Hello Blog!\n",
    "author: Patrick Linke\n",
    "date: 2025-10-25\n",
    "execute: false\n",
    "pinned: true\n",
    "---"
   ]
  },
  {
   "cell_type": "markdown",
   "id": "b5f3811d",
   "metadata": {},
   "source": [
    "<img src=\"../../images/robot.png\">"
   ]
  },
  {
   "cell_type": "markdown",
   "id": "3f99ead8",
   "metadata": {},
   "source": [
    "# Hello and Welcome to My Blog!\n",
    "\n",
    "I decided to start this blog to document my machine learning journey in public.  \n",
    "I am fascinated by idea of building intelligent machines that can learn from data and help make better decisions - especially in fields where precision matters and the cost of errors is high.\n",
    "\n",
    "I'm a medical student, so the content will often feature medical topics. But beyond that, I'll explore whatever I find interesting and intriguing at the moment and share what I learn along the way."
   ]
  },
  {
   "cell_type": "markdown",
   "id": "86057a6b",
   "metadata": {},
   "source": [
    "# Just Read Along\n",
    "\n",
    "Not everyone wants — or needs — to write code, and that’s perfectly fine.  \n",
    "You can still enjoy this blog by reading along, exploring the visuals, and following my explanations.  \n",
    "The goal is to make complex ideas intuitive, whether you’re coding beside me or just curious about how it all works.\n"
   ]
  },
  {
   "cell_type": "markdown",
   "id": "5b7e4712",
   "metadata": {},
   "source": [
    "# How You Can Code Along\n",
    "\n",
    "If you'd like to try the code yourself, you can download my notebooks and run the directly in [Google Colab](https://colab.research.google.com/) or on [Kaggle](https://www.kaggle.com/code)  — no installation required!  \n",
    "Of course, you can also type along without downloading the notebooks.\n",
    "\n",
    "I highly encourage you to experiment with the code  — this is one of the best learning experiences you’ll have!  \n",
    "If you get stuck or have any questions, feel free to reach out to my via the [Contact](../../contact.qmd) page or ask an LLM :).  \n",
    "In general, ChatGPT, Claude, Gemnini, and similar models are great at explaining code, so feel free to use them to enhance your learning experience!\n",
    "\n",
    "**That said, there’s no pressure to code along.** You can absolutely enjoy this blog by simply reading the posts, exploring the visuals, and following the explanations.  \n",
    "Even without writing code, you’ll still get insights into how machine learning works in practice."
   ]
  },
  {
   "cell_type": "markdown",
   "id": "41d5f407",
   "metadata": {},
   "source": [
    "# Programming Language and Libraries\n",
    "\n",
    "The code will be written in **Python**, a programming language that's been around since 1991.  \n",
    "Python is great for data science, statistics, automation, machine learning and AI. It makes it easy to build prototypes and MVPs quickly. \n",
    "It is also fairly easy to learn, so I encourage you to check it out if any of the topics sound interesting.\n",
    "\n",
    "**Core libraries I'll use:**\n",
    "\n",
    "- **Numpy** — fundamental package for scientific computing  \n",
    "- **Pandas** — data analysis and manipulation of tabular data  \n",
    "- **Matplotlib.pyplot** — plotting figures and creating visualizations  \n",
    "- **Seaborn** — advanced statistical plotting \n",
    "- **Scikit-Learn** — classical machine learning algorithms"
   ]
  },
  {
   "cell_type": "markdown",
   "id": "e17105f4",
   "metadata": {},
   "source": [
    "# Thanks for Reading This First Post!\n",
    "\n",
    "If you’d like to know more about me and why I started this blog, check out the [About page](../../about.qmd). Otherwise, dive into the next post and have fun!\n",
    "\n",
    "This is just the beginning. Let’s see where curiosity — and a bit of code — takes us."
   ]
  },
  {
   "cell_type": "markdown",
   "id": "ae5a6af8",
   "metadata": {},
   "source": [
    "# Credits\n",
    "\n",
    "P.S. The image at the beginning of this post was inspired by [@EdDonner](https://www.linkedin.com/in/eddonner/)'s [fantastic course on AI Agents](https://www.udemy.com/course/the-complete-agentic-ai-engineering-course/?couponCode=ACCAGE0923)!  \n",
    "While the style was inspired by the course, I created the final image myself using an AI model based on my own instructions.\n"
   ]
  }
 ],
 "metadata": {
  "language_info": {
   "name": "python"
  }
 },
 "nbformat": 4,
 "nbformat_minor": 5
}
